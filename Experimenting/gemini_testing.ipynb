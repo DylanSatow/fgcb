{
 "cells": [
  {
   "cell_type": "code",
   "execution_count": 106,
   "metadata": {},
   "outputs": [
    {
     "name": "stdout",
     "output_type": "stream",
     "text": [
      "Uploading file...\n",
      "Completed upload: https://generativelanguage.googleapis.com/v1beta/files/8wzdr5ky05ln\n"
     ]
    }
   ],
   "source": [
    "import time\n",
    "import google.generativeai as genai\n",
    "import os\n",
    "import typing_extensions as typing\n",
    "from google.generativeai.types import HarmCategory, HarmBlockThreshold\n",
    "import ast\n",
    "\n",
    "genai.configure(api_key=os.environ[\"GOOGLE_API_KEY\"])\n",
    "# Upload the video and print a confirmation.\n",
    "video_file_name = \"test.mp4\"\n",
    "\n",
    "print(f\"Uploading file...\")\n",
    "video_file = genai.upload_file(path=video_file_name)\n",
    "print(f\"Completed upload: {video_file.uri}\")\n",
    "\n",
    "\n",
    "# Check whether the file is ready to be used.\n",
    "while video_file.state.name == \"PROCESSING\":\n",
    "    video_file = genai.get_file(video_file.name)\n",
    "\n",
    "if video_file.state.name == \"FAILED\":\n",
    "  raise ValueError(video_file.state.name)"
   ]
  },
  {
   "cell_type": "code",
   "execution_count": 107,
   "metadata": {},
   "outputs": [],
   "source": [
    "# Create the prompt.\n",
    "prompt = f\"\"\"\n",
    "Suppose you are a very liberal stereotypical 18 year old girl watching instagram reels. You\n",
    "are to watch a video and provide a score rating between 0 and 1, where \n",
    "the score is completely based on your prescribed identity's preferences. A 0 indicates\n",
    "that the video is terrible and you would never want to even look at it, and a \n",
    "1 indicates that you are really invested and want to watch the whole thing. \n",
    "Try to avoid giving a full 0 or a full 1, as you should have some nuance in your answer.\n",
    "Provide an explanation for your rating, and give an explanation of the video\n",
    "\"\"\"\n",
    "\n",
    "class Video(typing.TypedDict):\n",
    "    rating: float\n",
    "    rating_reasoning: str\n",
    "    description: str\n",
    "\n",
    "# Choose a Gemini model.\n",
    "model = genai.GenerativeModel(model_name=\"gemini-1.5-flash\")"
   ]
  },
  {
   "cell_type": "code",
   "execution_count": 108,
   "metadata": {},
   "outputs": [
    {
     "name": "stdout",
     "output_type": "stream",
     "text": [
      "Making LLM inference request...\n"
     ]
    },
    {
     "data": {
      "text/plain": [
       "{'description': \"Rudy Giuliani is talking about some product, and it's a little funny how he's doing it,  but  the product is kind of lame and a bit too old man\",\n",
       " 'rating': 0.6,\n",
       " 'rating_reasoning': \"The video is funny but also a little sad.  It's funny because it seems like it could be a SNL skit but also sad because it's Rudy Giuliani.  I don't really care about the product, but it's not a bad video to watch.\"}"
      ]
     },
     "execution_count": 108,
     "metadata": {},
     "output_type": "execute_result"
    }
   ],
   "source": [
    "# Make the LLM request.\n",
    "print(\"Making LLM inference request...\")\n",
    "response = model.generate_content(\n",
    "    [video_file, prompt],\n",
    "    generation_config=genai.GenerationConfig(\n",
    "        response_mime_type=\"application/json\",\n",
    "        response_schema=Video\n",
    "    ),\n",
    "    safety_settings={\n",
    "        HarmCategory.HARM_CATEGORY_HATE_SPEECH: HarmBlockThreshold.BLOCK_NONE,\n",
    "        HarmCategory.HARM_CATEGORY_HARASSMENT: HarmBlockThreshold.BLOCK_NONE,\n",
    "        HarmCategory.HARM_CATEGORY_SEXUALLY_EXPLICIT: HarmBlockThreshold.BLOCK_NONE,\n",
    "        HarmCategory.HARM_CATEGORY_DANGEROUS_CONTENT: HarmBlockThreshold.BLOCK_NONE,\n",
    "    }\n",
    ")\n",
    "\n",
    "# Print the response, rendering any Markdown\n",
    "ast.literal_eval(response.text)"
   ]
  },
  {
   "cell_type": "code",
   "execution_count": 109,
   "metadata": {},
   "outputs": [
    {
     "name": "stdout",
     "output_type": "stream",
     "text": [
      "Making LLM inference request...\n"
     ]
    },
    {
     "data": {
      "text/plain": [
       "'0.3. This is the cringiest thing I\\'ve ever seen and makes me want to crawl out of my skin. The video is Rudy Giuliani talking about his \"America\\'s Mayor\" brand of hand sanitizer. He says something about it being \"incredibly proud of,\" and he\\'s holding a bottle of hand sanitizer.  He\\'s wearing a navy blue suit and a white shirt. \\nHe\\'s trying to look presidential and important but it\\'s just ridiculous. The only reason I\\'m giving it a 0.3 is because it\\'s so absurd it\\'s kind of entertaining. \\n'"
      ]
     },
     "execution_count": 109,
     "metadata": {},
     "output_type": "execute_result"
    }
   ],
   "source": [
    "# Make the LLM request.\n",
    "print(\"Making LLM inference request...\")\n",
    "response = model.generate_content(\n",
    "    [video_file, prompt],\n",
    "    safety_settings={\n",
    "        HarmCategory.HARM_CATEGORY_HATE_SPEECH: HarmBlockThreshold.BLOCK_NONE,\n",
    "        HarmCategory.HARM_CATEGORY_HARASSMENT: HarmBlockThreshold.BLOCK_NONE,\n",
    "        HarmCategory.HARM_CATEGORY_SEXUALLY_EXPLICIT: HarmBlockThreshold.BLOCK_NONE,\n",
    "        HarmCategory.HARM_CATEGORY_DANGEROUS_CONTENT: HarmBlockThreshold.BLOCK_NONE,\n",
    "    }\n",
    ")\n",
    "\n",
    "# Print the response, rendering any Markdown\n",
    "response.text"
   ]
  },
  {
   "cell_type": "code",
   "execution_count": null,
   "metadata": {},
   "outputs": [],
   "source": []
  }
 ],
 "metadata": {
  "kernelspec": {
   "display_name": "base",
   "language": "python",
   "name": "python3"
  },
  "language_info": {
   "codemirror_mode": {
    "name": "ipython",
    "version": 3
   },
   "file_extension": ".py",
   "mimetype": "text/x-python",
   "name": "python",
   "nbconvert_exporter": "python",
   "pygments_lexer": "ipython3",
   "version": "3.12.2"
  }
 },
 "nbformat": 4,
 "nbformat_minor": 2
}
